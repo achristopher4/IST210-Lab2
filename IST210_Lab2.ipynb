{
  "nbformat": 4,
  "nbformat_minor": 0,
  "metadata": {
    "colab": {
      "name": "IST210 Lab2.ipynb",
      "provenance": [],
      "authorship_tag": "ABX9TyNMY465aIoIzN2XcbRSxVOG",
      "include_colab_link": true
    },
    "kernelspec": {
      "name": "python3",
      "display_name": "Python 3"
    }
  },
  "cells": [
    {
      "cell_type": "markdown",
      "metadata": {
        "id": "view-in-github",
        "colab_type": "text"
      },
      "source": [
        "<a href=\"https://colab.research.google.com/github/achristopher4/IST210-Lab2/blob/master/IST210_Lab2.ipynb\" target=\"_parent\"><img src=\"https://colab.research.google.com/assets/colab-badge.svg\" alt=\"Open In Colab\"/></a>"
      ]
    },
    {
      "cell_type": "markdown",
      "metadata": {
        "id": "qpW7NcULZJve",
        "colab_type": "text"
      },
      "source": [
        "# Lab 2: Pet Shop\n",
        "\n",
        "The premise of this entity relationship design is to assist the manager of the pet store in making critical business decisions. The database is designed to help track customers purchases, reward members purchases, pets purchased, and food purchased. A typical business day would involve the transaction of store goods and consumers. The employees of the pet shop would need to access the database to determine the cost of the goods, the specific identification of that item, and the customer who purchased the goods. By forming a database to track purchases, it should ease the process of determining which goods are the most popular among customers. This stored data could help managers determine which goods to stock more of and which to stock less of. In addition to this, the creation of a database can help give specific information about a pet within the store. This information can help employees locate the pets within the store, give specific details about the type of pet, and different types of food the pet can eat. By compiling information about the store items, transactions, and consumer, it increases the access to useful data to the managers. When data is more accessible to managers, it can shorten the amount of time required to analyze data and finalize decisions based on consumer trends. \n",
        "\n",
        "### Tables\n",
        "*   Customer \n",
        "*   Transaction \n",
        "*   Transaction Food\n",
        "*   Transaction Pet\n",
        "*   Food ID\n",
        "*   Pet ID\n",
        "*   Pet Type\n",
        "\n",
        "\n",
        "https://docs.google.com/document/d/1cTp0vyA89jD9hdbmJQG628LEioV1JRgqC6tfjS84Mm4/edit"
      ]
    }
  ]
}